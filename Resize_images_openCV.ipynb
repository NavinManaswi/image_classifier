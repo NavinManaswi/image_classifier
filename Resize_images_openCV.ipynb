{
 "cells": [
  {
   "cell_type": "code",
   "execution_count": 1,
   "metadata": {
    "collapsed": false
   },
   "outputs": [],
   "source": [
    "import cv2\n",
    "import numpy as np\n",
    "import pandas as pd\n",
    "import os\n",
    "import matplotlib.pyplot as plt\n",
    "%matplotlib inline"
   ]
  },
  {
   "cell_type": "markdown",
   "metadata": {},
   "source": [
    "## Resizing Aamir Khan's images to (100x100)"
   ]
  },
  {
   "cell_type": "code",
   "execution_count": 88,
   "metadata": {
    "collapsed": false
   },
   "outputs": [],
   "source": [
    "curr_dir = 'Aamir_Khan/'\n",
    "files_dir = os.listdir(curr_dir)\n",
    "for i in xrange(len(files_dir)):\n",
    "    file_name = curr_dir +  files_dir[i]\n",
    "    image = cv2.imread(file_name)\n",
    "    image = cv2.resize(image, (100,100), interpolation = cv2.INTER_CUBIC)\n",
    "    wr = 'resize_aamir/' + str(i) + '.jpeg'\n",
    "    cv2.imwrite(wr,image)"
   ]
  },
  {
   "cell_type": "markdown",
   "metadata": {},
   "source": [
    "## Resizing Salman Khan's images to (100x100)"
   ]
  },
  {
   "cell_type": "code",
   "execution_count": 92,
   "metadata": {
    "collapsed": false
   },
   "outputs": [],
   "source": [
    "curr_dir = 'SalmanKhan/'\n",
    "files_dir = os.listdir(curr_dir)\n",
    "for i in xrange(len(files_dir)):\n",
    "    file_name = curr_dir + files_dir[i]\n",
    "    image = cv2.imread(file_name)\n",
    "    image = cv2.resize(image, (100,100), interpolation = cv2.INTER_CUBIC)\n",
    "    wr = 'resize_salman/' + str(i) + '.jpeg'\n",
    "    cv2.imwrite(wr,image)"
   ]
  },
  {
   "cell_type": "markdown",
   "metadata": {},
   "source": [
    "## Resizing Shahrukh Khan's images to (100x100)"
   ]
  },
  {
   "cell_type": "code",
   "execution_count": 99,
   "metadata": {
    "collapsed": false
   },
   "outputs": [],
   "source": [
    "curr_dir = 'ShahrukhKhan/'\n",
    "files_dir = os.listdir(curr_dir)\n",
    "for i in xrange(len(files_dir)):\n",
    "    file_name = curr_dir + files_dir[i]\n",
    "    image = cv2.imread(file_name)\n",
    "    image = cv2.resize(image, (100,100), interpolation = cv2.INTER_CUBIC)\n",
    "    wr = 'resize_shahrukh/' + str(i) + '.jpeg'\n",
    "    cv2.imwrite(wr,image)"
   ]
  },
  {
   "cell_type": "code",
   "execution_count": null,
   "metadata": {
    "collapsed": true
   },
   "outputs": [],
   "source": []
  }
 ],
 "metadata": {
  "anaconda-cloud": {},
  "kernelspec": {
   "display_name": "Python [conda root]",
   "language": "python",
   "name": "conda-root-py"
  },
  "language_info": {
   "codemirror_mode": {
    "name": "ipython",
    "version": 2
   },
   "file_extension": ".py",
   "mimetype": "text/x-python",
   "name": "python",
   "nbconvert_exporter": "python",
   "pygments_lexer": "ipython2",
   "version": "2.7.12"
  }
 },
 "nbformat": 4,
 "nbformat_minor": 1
}
